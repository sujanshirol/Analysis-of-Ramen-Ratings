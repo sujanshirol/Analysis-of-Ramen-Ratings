{
 "cells": [
  {
   "cell_type": "markdown",
   "metadata": {
    "slideshow": {
     "slide_type": "slide"
    }
   },
   "source": [
    "# <a id=\"list\"> </a>\n",
    "### STORYLINE\n",
    "<table align=\"left\">\n",
    "    <tr>\n",
    "        <td width=\"15%\">\n",
    "            <img src=\"images.png\">\n",
    "        </td>\n",
    "        <td>\n",
    "            <div align=\"left\", style=\"font-size:130%\">\n",
    "                <font color=\"#21658D\">\n",
    "                    <b> <font color='blue'>\"Octa Global Pvt. Ltd\"</font> is launching a new Ramen brand across various countries of the world.It is named as <font color='blue'>\"Octa Ramen\"</font>. \n",
    "They have tasked <font color='orange'>\"Team Octa\"</font>to <span style='background :yellow' >carryout and demonstrate the feaseability and efficacy of the launch.</span></b>\n",
    "                </font>\n",
    "            </div>\n",
    "        </td>\n",
    "    </tr>\n",
    "</table>"
   ]
  },
  {
   "cell_type": "markdown",
   "metadata": {
    "slideshow": {
     "slide_type": "slide"
    }
   },
   "source": [
    "# Understanding the data"
   ]
  },
  {
   "cell_type": "markdown",
   "metadata": {
    "slideshow": {
     "slide_type": "fragment"
    }
   },
   "source": [
    "#### We have a dataset containing the business statistics of the existing Ramen brands and their perfomance in the countries across the world. We will use this dataset in our analysis and try to arrive at a feasable business model."
   ]
  },
  {
   "cell_type": "markdown",
   "metadata": {
    "slideshow": {
     "slide_type": "fragment"
    }
   },
   "source": [
    "#### Before proceeding any further, let us import the necessary python libraries."
   ]
  },
  {
   "cell_type": "code",
   "execution_count": 2,
   "metadata": {
    "slideshow": {
     "slide_type": "fragment"
    }
   },
   "outputs": [],
   "source": [
    "import pandas as pd\n",
    "import numpy as np\n",
    "import os\n",
    "import re\n",
    "import matplotlib.pyplot as plt\n",
    "import seaborn as sns\n",
    "%matplotlib inline"
   ]
  },
  {
   "cell_type": "markdown",
   "metadata": {
    "slideshow": {
     "slide_type": "slide"
    }
   },
   "source": [
    "#### Let us see the number of features present in the given Ramen dataset.\n"
   ]
  },
  {
   "cell_type": "markdown",
   "metadata": {
    "slideshow": {
     "slide_type": "fragment"
    }
   },
   "source": [
    "#### To do this, we load the data set and type its head."
   ]
  },
  {
   "cell_type": "code",
   "execution_count": 3,
   "metadata": {
    "slideshow": {
     "slide_type": "fragment"
    }
   },
   "outputs": [
    {
     "data": {
      "text/html": [
       "<div>\n",
       "<style scoped>\n",
       "    .dataframe tbody tr th:only-of-type {\n",
       "        vertical-align: middle;\n",
       "    }\n",
       "\n",
       "    .dataframe tbody tr th {\n",
       "        vertical-align: top;\n",
       "    }\n",
       "\n",
       "    .dataframe thead th {\n",
       "        text-align: right;\n",
       "    }\n",
       "</style>\n",
       "<table border=\"1\" class=\"dataframe\">\n",
       "  <thead>\n",
       "    <tr style=\"text-align: right;\">\n",
       "      <th></th>\n",
       "      <th>Review #</th>\n",
       "      <th>Brand</th>\n",
       "      <th>Variety</th>\n",
       "      <th>Style</th>\n",
       "      <th>Country</th>\n",
       "      <th>Stars</th>\n",
       "      <th>Top Ten</th>\n",
       "    </tr>\n",
       "  </thead>\n",
       "  <tbody>\n",
       "    <tr>\n",
       "      <th>0</th>\n",
       "      <td>2580</td>\n",
       "      <td>New Touch</td>\n",
       "      <td>T's Restaurant Tantanmen</td>\n",
       "      <td>Cup</td>\n",
       "      <td>Japan</td>\n",
       "      <td>3.75</td>\n",
       "      <td>NaN</td>\n",
       "    </tr>\n",
       "    <tr>\n",
       "      <th>1</th>\n",
       "      <td>2579</td>\n",
       "      <td>Just Way</td>\n",
       "      <td>Noodles Spicy Hot Sesame Spicy Hot Sesame Guan...</td>\n",
       "      <td>Pack</td>\n",
       "      <td>Taiwan</td>\n",
       "      <td>1.00</td>\n",
       "      <td>NaN</td>\n",
       "    </tr>\n",
       "    <tr>\n",
       "      <th>2</th>\n",
       "      <td>2578</td>\n",
       "      <td>Nissin</td>\n",
       "      <td>Cup Noodles Chicken Vegetable</td>\n",
       "      <td>Cup</td>\n",
       "      <td>USA</td>\n",
       "      <td>2.25</td>\n",
       "      <td>NaN</td>\n",
       "    </tr>\n",
       "    <tr>\n",
       "      <th>3</th>\n",
       "      <td>2577</td>\n",
       "      <td>Wei Lih</td>\n",
       "      <td>GGE Ramen Snack Tomato Flavor</td>\n",
       "      <td>Pack</td>\n",
       "      <td>Taiwan</td>\n",
       "      <td>2.75</td>\n",
       "      <td>NaN</td>\n",
       "    </tr>\n",
       "    <tr>\n",
       "      <th>4</th>\n",
       "      <td>2576</td>\n",
       "      <td>Ching's Secret</td>\n",
       "      <td>Singapore Curry</td>\n",
       "      <td>Pack</td>\n",
       "      <td>India</td>\n",
       "      <td>3.75</td>\n",
       "      <td>NaN</td>\n",
       "    </tr>\n",
       "  </tbody>\n",
       "</table>\n",
       "</div>"
      ],
      "text/plain": [
       "   Review #           Brand  \\\n",
       "0      2580       New Touch   \n",
       "1      2579        Just Way   \n",
       "2      2578          Nissin   \n",
       "3      2577         Wei Lih   \n",
       "4      2576  Ching's Secret   \n",
       "\n",
       "                                             Variety Style Country  Stars  \\\n",
       "0                          T's Restaurant Tantanmen    Cup   Japan   3.75   \n",
       "1  Noodles Spicy Hot Sesame Spicy Hot Sesame Guan...  Pack  Taiwan   1.00   \n",
       "2                      Cup Noodles Chicken Vegetable   Cup     USA   2.25   \n",
       "3                      GGE Ramen Snack Tomato Flavor  Pack  Taiwan   2.75   \n",
       "4                                    Singapore Curry  Pack   India   3.75   \n",
       "\n",
       "  Top Ten  \n",
       "0     NaN  \n",
       "1     NaN  \n",
       "2     NaN  \n",
       "3     NaN  \n",
       "4     NaN  "
      ]
     },
     "execution_count": 3,
     "metadata": {},
     "output_type": "execute_result"
    }
   ],
   "source": [
    "df = pd.read_csv('ramen-ratings.csv') # Loading the dataset\n",
    "df.head() # Printing the fist 5 rows to see the available features"
   ]
  },
  {
   "cell_type": "markdown",
   "metadata": {
    "slideshow": {
     "slide_type": "slide"
    }
   },
   "source": [
    "#### Columns in this dataframe are:"
   ]
  },
  {
   "cell_type": "code",
   "execution_count": 4,
   "metadata": {
    "slideshow": {
     "slide_type": "fragment"
    }
   },
   "outputs": [
    {
     "data": {
      "text/plain": [
       "Index(['Review #', 'Brand', 'Variety', 'Style', 'Country', 'Stars', 'Top Ten'], dtype='object')"
      ]
     },
     "execution_count": 4,
     "metadata": {},
     "output_type": "execute_result"
    }
   ],
   "source": [
    "df.columns"
   ]
  },
  {
   "cell_type": "markdown",
   "metadata": {
    "slideshow": {
     "slide_type": "slide"
    }
   },
   "source": [
    "#### What are the number of rows and columns in the dataframe?"
   ]
  },
  {
   "cell_type": "code",
   "execution_count": 5,
   "metadata": {
    "slideshow": {
     "slide_type": "fragment"
    }
   },
   "outputs": [
    {
     "name": "stdout",
     "output_type": "stream",
     "text": [
      "Rows : 2580\n",
      "Columns : 7\n"
     ]
    }
   ],
   "source": [
    "shape = df.shape\n",
    "print(\"Rows :\",shape[0])\n",
    "print(\"Columns :\",shape[1])"
   ]
  },
  {
   "cell_type": "markdown",
   "metadata": {
    "slideshow": {
     "slide_type": "slide"
    }
   },
   "source": [
    "#### What are the other details we can get out the dataframe?"
   ]
  },
  {
   "cell_type": "code",
   "execution_count": 6,
   "metadata": {
    "slideshow": {
     "slide_type": "fragment"
    }
   },
   "outputs": [
    {
     "name": "stdout",
     "output_type": "stream",
     "text": [
      "<class 'pandas.core.frame.DataFrame'>\n",
      "RangeIndex: 2580 entries, 0 to 2579\n",
      "Data columns (total 7 columns):\n",
      " #   Column    Non-Null Count  Dtype  \n",
      "---  ------    --------------  -----  \n",
      " 0   Review #  2580 non-null   int64  \n",
      " 1   Brand     2580 non-null   object \n",
      " 2   Variety   2580 non-null   object \n",
      " 3   Style     2578 non-null   object \n",
      " 4   Country   2580 non-null   object \n",
      " 5   Stars     2577 non-null   float64\n",
      " 6   Top Ten   37 non-null     object \n",
      "dtypes: float64(1), int64(1), object(5)\n",
      "memory usage: 141.2+ KB\n"
     ]
    }
   ],
   "source": [
    "df.info(verbose=True)"
   ]
  },
  {
   "cell_type": "markdown",
   "metadata": {
    "slideshow": {
     "slide_type": "subslide"
    }
   },
   "source": [
    "#### Data Extracted from info() function:\n",
    "\n",
    "#### 1) Rows are 2580 and Columns are 7\n",
    "#### 2) There are 5 categorical columns and 2 numerical columns\n",
    "#### 3) Memory consumption: 141.2 KB"
   ]
  },
  {
   "cell_type": "markdown",
   "metadata": {
    "slideshow": {
     "slide_type": "slide"
    }
   },
   "source": [
    "#### What is the statistical summary of the numerical columns?"
   ]
  },
  {
   "cell_type": "code",
   "execution_count": 7,
   "metadata": {
    "slideshow": {
     "slide_type": "fragment"
    }
   },
   "outputs": [
    {
     "data": {
      "text/html": [
       "<div>\n",
       "<style scoped>\n",
       "    .dataframe tbody tr th:only-of-type {\n",
       "        vertical-align: middle;\n",
       "    }\n",
       "\n",
       "    .dataframe tbody tr th {\n",
       "        vertical-align: top;\n",
       "    }\n",
       "\n",
       "    .dataframe thead th {\n",
       "        text-align: right;\n",
       "    }\n",
       "</style>\n",
       "<table border=\"1\" class=\"dataframe\">\n",
       "  <thead>\n",
       "    <tr style=\"text-align: right;\">\n",
       "      <th></th>\n",
       "      <th>Review #</th>\n",
       "      <th>Stars</th>\n",
       "    </tr>\n",
       "  </thead>\n",
       "  <tbody>\n",
       "    <tr>\n",
       "      <th>count</th>\n",
       "      <td>2580.000000</td>\n",
       "      <td>2577.000000</td>\n",
       "    </tr>\n",
       "    <tr>\n",
       "      <th>mean</th>\n",
       "      <td>1290.500000</td>\n",
       "      <td>3.654676</td>\n",
       "    </tr>\n",
       "    <tr>\n",
       "      <th>std</th>\n",
       "      <td>744.926171</td>\n",
       "      <td>1.015331</td>\n",
       "    </tr>\n",
       "    <tr>\n",
       "      <th>min</th>\n",
       "      <td>1.000000</td>\n",
       "      <td>0.000000</td>\n",
       "    </tr>\n",
       "    <tr>\n",
       "      <th>25%</th>\n",
       "      <td>645.750000</td>\n",
       "      <td>3.250000</td>\n",
       "    </tr>\n",
       "    <tr>\n",
       "      <th>50%</th>\n",
       "      <td>1290.500000</td>\n",
       "      <td>3.750000</td>\n",
       "    </tr>\n",
       "    <tr>\n",
       "      <th>75%</th>\n",
       "      <td>1935.250000</td>\n",
       "      <td>4.250000</td>\n",
       "    </tr>\n",
       "    <tr>\n",
       "      <th>max</th>\n",
       "      <td>2580.000000</td>\n",
       "      <td>5.000000</td>\n",
       "    </tr>\n",
       "  </tbody>\n",
       "</table>\n",
       "</div>"
      ],
      "text/plain": [
       "          Review #        Stars\n",
       "count  2580.000000  2577.000000\n",
       "mean   1290.500000     3.654676\n",
       "std     744.926171     1.015331\n",
       "min       1.000000     0.000000\n",
       "25%     645.750000     3.250000\n",
       "50%    1290.500000     3.750000\n",
       "75%    1935.250000     4.250000\n",
       "max    2580.000000     5.000000"
      ]
     },
     "execution_count": 7,
     "metadata": {},
     "output_type": "execute_result"
    }
   ],
   "source": [
    "df.describe()"
   ]
  },
  {
   "cell_type": "markdown",
   "metadata": {
    "slideshow": {
     "slide_type": "slide"
    }
   },
   "source": [
    "#### What is the statistical summary of the categorical columns?"
   ]
  },
  {
   "cell_type": "code",
   "execution_count": 8,
   "metadata": {
    "slideshow": {
     "slide_type": "fragment"
    }
   },
   "outputs": [
    {
     "data": {
      "text/html": [
       "<div>\n",
       "<style scoped>\n",
       "    .dataframe tbody tr th:only-of-type {\n",
       "        vertical-align: middle;\n",
       "    }\n",
       "\n",
       "    .dataframe tbody tr th {\n",
       "        vertical-align: top;\n",
       "    }\n",
       "\n",
       "    .dataframe thead th {\n",
       "        text-align: right;\n",
       "    }\n",
       "</style>\n",
       "<table border=\"1\" class=\"dataframe\">\n",
       "  <thead>\n",
       "    <tr style=\"text-align: right;\">\n",
       "      <th></th>\n",
       "      <th>Brand</th>\n",
       "      <th>Variety</th>\n",
       "      <th>Style</th>\n",
       "      <th>Country</th>\n",
       "      <th>Top Ten</th>\n",
       "    </tr>\n",
       "  </thead>\n",
       "  <tbody>\n",
       "    <tr>\n",
       "      <th>count</th>\n",
       "      <td>2580</td>\n",
       "      <td>2580</td>\n",
       "      <td>2578</td>\n",
       "      <td>2580</td>\n",
       "      <td>37</td>\n",
       "    </tr>\n",
       "    <tr>\n",
       "      <th>unique</th>\n",
       "      <td>355</td>\n",
       "      <td>2413</td>\n",
       "      <td>7</td>\n",
       "      <td>38</td>\n",
       "      <td>37</td>\n",
       "    </tr>\n",
       "    <tr>\n",
       "      <th>top</th>\n",
       "      <td>Nissin</td>\n",
       "      <td>Chicken</td>\n",
       "      <td>Pack</td>\n",
       "      <td>Japan</td>\n",
       "      <td>2012 #5</td>\n",
       "    </tr>\n",
       "    <tr>\n",
       "      <th>freq</th>\n",
       "      <td>381</td>\n",
       "      <td>7</td>\n",
       "      <td>1531</td>\n",
       "      <td>352</td>\n",
       "      <td>1</td>\n",
       "    </tr>\n",
       "  </tbody>\n",
       "</table>\n",
       "</div>"
      ],
      "text/plain": [
       "         Brand  Variety Style Country  Top Ten\n",
       "count     2580     2580  2578    2580       37\n",
       "unique     355     2413     7      38       37\n",
       "top     Nissin  Chicken  Pack   Japan  2012 #5\n",
       "freq       381        7  1531     352        1"
      ]
     },
     "execution_count": 8,
     "metadata": {},
     "output_type": "execute_result"
    }
   ],
   "source": [
    "df.describe(include =['object'])"
   ]
  },
  {
   "cell_type": "markdown",
   "metadata": {
    "slideshow": {
     "slide_type": "slide"
    }
   },
   "source": [
    "#### What is the total statistical summary of the columns?"
   ]
  },
  {
   "cell_type": "code",
   "execution_count": 9,
   "metadata": {
    "slideshow": {
     "slide_type": "fragment"
    }
   },
   "outputs": [
    {
     "data": {
      "text/html": [
       "<div>\n",
       "<style scoped>\n",
       "    .dataframe tbody tr th:only-of-type {\n",
       "        vertical-align: middle;\n",
       "    }\n",
       "\n",
       "    .dataframe tbody tr th {\n",
       "        vertical-align: top;\n",
       "    }\n",
       "\n",
       "    .dataframe thead th {\n",
       "        text-align: right;\n",
       "    }\n",
       "</style>\n",
       "<table border=\"1\" class=\"dataframe\">\n",
       "  <thead>\n",
       "    <tr style=\"text-align: right;\">\n",
       "      <th></th>\n",
       "      <th>Review #</th>\n",
       "      <th>Brand</th>\n",
       "      <th>Variety</th>\n",
       "      <th>Style</th>\n",
       "      <th>Country</th>\n",
       "      <th>Stars</th>\n",
       "      <th>Top Ten</th>\n",
       "    </tr>\n",
       "  </thead>\n",
       "  <tbody>\n",
       "    <tr>\n",
       "      <th>count</th>\n",
       "      <td>2580.000000</td>\n",
       "      <td>2580</td>\n",
       "      <td>2580</td>\n",
       "      <td>2578</td>\n",
       "      <td>2580</td>\n",
       "      <td>2577.000000</td>\n",
       "      <td>37</td>\n",
       "    </tr>\n",
       "    <tr>\n",
       "      <th>unique</th>\n",
       "      <td>NaN</td>\n",
       "      <td>355</td>\n",
       "      <td>2413</td>\n",
       "      <td>7</td>\n",
       "      <td>38</td>\n",
       "      <td>NaN</td>\n",
       "      <td>37</td>\n",
       "    </tr>\n",
       "    <tr>\n",
       "      <th>top</th>\n",
       "      <td>NaN</td>\n",
       "      <td>Nissin</td>\n",
       "      <td>Chicken</td>\n",
       "      <td>Pack</td>\n",
       "      <td>Japan</td>\n",
       "      <td>NaN</td>\n",
       "      <td>2012 #5</td>\n",
       "    </tr>\n",
       "    <tr>\n",
       "      <th>freq</th>\n",
       "      <td>NaN</td>\n",
       "      <td>381</td>\n",
       "      <td>7</td>\n",
       "      <td>1531</td>\n",
       "      <td>352</td>\n",
       "      <td>NaN</td>\n",
       "      <td>1</td>\n",
       "    </tr>\n",
       "    <tr>\n",
       "      <th>mean</th>\n",
       "      <td>1290.500000</td>\n",
       "      <td>NaN</td>\n",
       "      <td>NaN</td>\n",
       "      <td>NaN</td>\n",
       "      <td>NaN</td>\n",
       "      <td>3.654676</td>\n",
       "      <td>NaN</td>\n",
       "    </tr>\n",
       "    <tr>\n",
       "      <th>std</th>\n",
       "      <td>744.926171</td>\n",
       "      <td>NaN</td>\n",
       "      <td>NaN</td>\n",
       "      <td>NaN</td>\n",
       "      <td>NaN</td>\n",
       "      <td>1.015331</td>\n",
       "      <td>NaN</td>\n",
       "    </tr>\n",
       "    <tr>\n",
       "      <th>min</th>\n",
       "      <td>1.000000</td>\n",
       "      <td>NaN</td>\n",
       "      <td>NaN</td>\n",
       "      <td>NaN</td>\n",
       "      <td>NaN</td>\n",
       "      <td>0.000000</td>\n",
       "      <td>NaN</td>\n",
       "    </tr>\n",
       "    <tr>\n",
       "      <th>25%</th>\n",
       "      <td>645.750000</td>\n",
       "      <td>NaN</td>\n",
       "      <td>NaN</td>\n",
       "      <td>NaN</td>\n",
       "      <td>NaN</td>\n",
       "      <td>3.250000</td>\n",
       "      <td>NaN</td>\n",
       "    </tr>\n",
       "    <tr>\n",
       "      <th>50%</th>\n",
       "      <td>1290.500000</td>\n",
       "      <td>NaN</td>\n",
       "      <td>NaN</td>\n",
       "      <td>NaN</td>\n",
       "      <td>NaN</td>\n",
       "      <td>3.750000</td>\n",
       "      <td>NaN</td>\n",
       "    </tr>\n",
       "    <tr>\n",
       "      <th>75%</th>\n",
       "      <td>1935.250000</td>\n",
       "      <td>NaN</td>\n",
       "      <td>NaN</td>\n",
       "      <td>NaN</td>\n",
       "      <td>NaN</td>\n",
       "      <td>4.250000</td>\n",
       "      <td>NaN</td>\n",
       "    </tr>\n",
       "    <tr>\n",
       "      <th>max</th>\n",
       "      <td>2580.000000</td>\n",
       "      <td>NaN</td>\n",
       "      <td>NaN</td>\n",
       "      <td>NaN</td>\n",
       "      <td>NaN</td>\n",
       "      <td>5.000000</td>\n",
       "      <td>NaN</td>\n",
       "    </tr>\n",
       "  </tbody>\n",
       "</table>\n",
       "</div>"
      ],
      "text/plain": [
       "           Review #   Brand  Variety Style Country        Stars  Top Ten\n",
       "count   2580.000000    2580     2580  2578    2580  2577.000000       37\n",
       "unique          NaN     355     2413     7      38          NaN       37\n",
       "top             NaN  Nissin  Chicken  Pack   Japan          NaN  2012 #5\n",
       "freq            NaN     381        7  1531     352          NaN        1\n",
       "mean    1290.500000     NaN      NaN   NaN     NaN     3.654676      NaN\n",
       "std      744.926171     NaN      NaN   NaN     NaN     1.015331      NaN\n",
       "min        1.000000     NaN      NaN   NaN     NaN     0.000000      NaN\n",
       "25%      645.750000     NaN      NaN   NaN     NaN     3.250000      NaN\n",
       "50%     1290.500000     NaN      NaN   NaN     NaN     3.750000      NaN\n",
       "75%     1935.250000     NaN      NaN   NaN     NaN     4.250000      NaN\n",
       "max     2580.000000     NaN      NaN   NaN     NaN     5.000000      NaN"
      ]
     },
     "execution_count": 9,
     "metadata": {},
     "output_type": "execute_result"
    }
   ],
   "source": [
    "df.describe(include =\"all\")"
   ]
  },
  {
   "cell_type": "markdown",
   "metadata": {
    "slideshow": {
     "slide_type": "slide"
    }
   },
   "source": [
    "#### We have a column named \"Style\" which contains different style of packing the Ramen items. Let us see its number distribution."
   ]
  },
  {
   "cell_type": "code",
   "execution_count": 10,
   "metadata": {
    "slideshow": {
     "slide_type": "fragment"
    }
   },
   "outputs": [
    {
     "data": {
      "text/plain": [
       "Pack    1531\n",
       "Bowl     481\n",
       "Cup      450\n",
       "Tray     108\n",
       "Box        6\n",
       "Bar        1\n",
       "Can        1\n",
       "Name: Style, dtype: int64"
      ]
     },
     "execution_count": 10,
     "metadata": {},
     "output_type": "execute_result"
    }
   ],
   "source": [
    "df['Style'].value_counts()"
   ]
  },
  {
   "cell_type": "markdown",
   "metadata": {
    "slideshow": {
     "slide_type": "slide"
    }
   },
   "source": [
    "#### Which column contains NaNs?"
   ]
  },
  {
   "cell_type": "code",
   "execution_count": 11,
   "metadata": {
    "slideshow": {
     "slide_type": "fragment"
    }
   },
   "outputs": [
    {
     "data": {
      "text/plain": [
       "Review #    False\n",
       "Brand       False\n",
       "Variety     False\n",
       "Style        True\n",
       "Country     False\n",
       "Stars        True\n",
       "Top Ten      True\n",
       "dtype: bool"
      ]
     },
     "execution_count": 11,
     "metadata": {},
     "output_type": "execute_result"
    }
   ],
   "source": [
    "df.isna().any()"
   ]
  },
  {
   "cell_type": "markdown",
   "metadata": {
    "slideshow": {
     "slide_type": "slide"
    }
   },
   "source": [
    "### Let us see a bar plot visualisation of the columns with Nans"
   ]
  },
  {
   "cell_type": "code",
   "execution_count": 12,
   "metadata": {
    "slideshow": {
     "slide_type": "fragment"
    }
   },
   "outputs": [
    {
     "data": {
      "text/plain": [
       "Review #       0\n",
       "Brand          0\n",
       "Variety        0\n",
       "Style          2\n",
       "Country        0\n",
       "Stars          3\n",
       "Top Ten     2543\n",
       "dtype: int64"
      ]
     },
     "execution_count": 12,
     "metadata": {},
     "output_type": "execute_result"
    }
   ],
   "source": [
    "df.isna().sum() # Sum of NaNs in each column"
   ]
  },
  {
   "cell_type": "code",
   "execution_count": 13,
   "metadata": {
    "slideshow": {
     "slide_type": "slide"
    }
   },
   "outputs": [
    {
     "data": {
      "image/png": "[encoded data removed]",
      "text/plain": [
       "<Figure size 432x288 with 1 Axes>"
      ]
     },
     "metadata": {
      "needs_background": "light"
     },
     "output_type": "display_data"
    }
   ],
   "source": [
    "plt.style.use(\"seaborn-colorblind\")\n",
    "df.isna().sum().plot(kind=\"bar\")\n",
    "plt.title(\"NaN counts in columns\",fontsize=20)\n",
    "plt.ylabel(\"Count of NaNs\",fontsize=15)\n",
    "plt.xlabel(\"Column Names\",fontsize=15)\n",
    "plt.show()"
   ]
  },
  {
   "cell_type": "markdown",
   "metadata": {
    "slideshow": {
     "slide_type": "slide"
    }
   },
   "source": [
    "# Cleaning the data "
   ]
  },
  {
   "cell_type": "markdown",
   "metadata": {
    "slideshow": {
     "slide_type": "fragment"
    }
   },
   "source": [
    "#### We see that column \"Style\" has <font color='orange'>2</font>, \"Stars\" has <font color='orange'>3</font>  and \"Top Ten\" has <font color='orange'>2543</font> NaNs. It is imperative that we handle these values before we jump in for EDA."
   ]
  },
  {
   "cell_type": "code",
   "execution_count": 14,
   "metadata": {
    "slideshow": {
     "slide_type": "slide"
    }
   },
   "outputs": [
    {
     "data": {
      "text/html": [
       "<div>\n",
       "<style scoped>\n",
       "    .dataframe tbody tr th:only-of-type {\n",
       "        vertical-align: middle;\n",
       "    }\n",
       "\n",
       "    .dataframe tbody tr th {\n",
       "        vertical-align: top;\n",
       "    }\n",
       "\n",
       "    .dataframe thead th {\n",
       "        text-align: right;\n",
       "    }\n",
       "</style>\n",
       "<table border=\"1\" class=\"dataframe\">\n",
       "  <thead>\n",
       "    <tr style=\"text-align: right;\">\n",
       "      <th></th>\n",
       "      <th>Review #</th>\n",
       "      <th>Brand</th>\n",
       "      <th>Variety</th>\n",
       "      <th>Style</th>\n",
       "      <th>Country</th>\n",
       "      <th>Stars</th>\n",
       "      <th>Top Ten</th>\n",
       "    </tr>\n",
       "  </thead>\n",
       "  <tbody>\n",
       "    <tr>\n",
       "      <th>32</th>\n",
       "      <td>2548</td>\n",
       "      <td>Ottogi</td>\n",
       "      <td>Plain Instant Noodle No Soup Included</td>\n",
       "      <td>Pack</td>\n",
       "      <td>South Korea</td>\n",
       "      <td>NaN</td>\n",
       "      <td>0</td>\n",
       "    </tr>\n",
       "    <tr>\n",
       "      <th>122</th>\n",
       "      <td>2458</td>\n",
       "      <td>Samyang Foods</td>\n",
       "      <td>Sari Ramen</td>\n",
       "      <td>Pack</td>\n",
       "      <td>South Korea</td>\n",
       "      <td>NaN</td>\n",
       "      <td>0</td>\n",
       "    </tr>\n",
       "    <tr>\n",
       "      <th>993</th>\n",
       "      <td>1587</td>\n",
       "      <td>Mi E-Zee</td>\n",
       "      <td>Plain Noodles</td>\n",
       "      <td>Pack</td>\n",
       "      <td>Malaysia</td>\n",
       "      <td>NaN</td>\n",
       "      <td>0</td>\n",
       "    </tr>\n",
       "    <tr>\n",
       "      <th>2152</th>\n",
       "      <td>428</td>\n",
       "      <td>Kamfen</td>\n",
       "      <td>E Menm Chicken</td>\n",
       "      <td>NaN</td>\n",
       "      <td>China</td>\n",
       "      <td>3.75</td>\n",
       "      <td>0</td>\n",
       "    </tr>\n",
       "    <tr>\n",
       "      <th>2442</th>\n",
       "      <td>138</td>\n",
       "      <td>Unif</td>\n",
       "      <td>100 Furong Shrimp</td>\n",
       "      <td>NaN</td>\n",
       "      <td>Taiwan</td>\n",
       "      <td>3.00</td>\n",
       "      <td>0</td>\n",
       "    </tr>\n",
       "  </tbody>\n",
       "</table>\n",
       "</div>"
      ],
      "text/plain": [
       "      Review #          Brand                                Variety Style  \\\n",
       "32        2548         Ottogi  Plain Instant Noodle No Soup Included  Pack   \n",
       "122       2458  Samyang Foods                             Sari Ramen  Pack   \n",
       "993       1587       Mi E-Zee                          Plain Noodles  Pack   \n",
       "2152       428         Kamfen                         E Menm Chicken   NaN   \n",
       "2442       138           Unif                      100 Furong Shrimp   NaN   \n",
       "\n",
       "          Country  Stars Top Ten  \n",
       "32    South Korea    NaN       0  \n",
       "122   South Korea    NaN       0  \n",
       "993      Malaysia    NaN       0  \n",
       "2152        China   3.75       0  \n",
       "2442       Taiwan   3.00       0  "
      ]
     },
     "execution_count": 14,
     "metadata": {},
     "output_type": "execute_result"
    }
   ],
   "source": [
    "df['Top Ten'].fillna(0, inplace=True) # For all the NaNs in \"Top Ten\" column, we have assigned a temporary value 0.\n",
    "df['Top Ten'].isna().sum()\n",
    "\n",
    "dfNan = df[df.isnull().any(axis=1)] # subsetting only the rows with NaNs\n",
    "dfNan"
   ]
  },
  {
   "cell_type": "markdown",
   "metadata": {
    "slideshow": {
     "slide_type": "slide"
    }
   },
   "source": [
    "#### Handling NaNs in Column \"Style\""
   ]
  },
  {
   "cell_type": "code",
   "execution_count": 15,
   "metadata": {
    "slideshow": {
     "slide_type": "fragment"
    }
   },
   "outputs": [],
   "source": [
    "df.drop(2152, axis=0,inplace=True) # Dropping row 2152\n",
    "df.drop(2442, axis=0,inplace=True) ## Dropping row 2442"
   ]
  },
  {
   "cell_type": "markdown",
   "metadata": {
    "slideshow": {
     "slide_type": "fragment"
    }
   },
   "source": [
    "#### We have dropped the 2 rows containing NaNs in \"Style\" column. Any relavent logic to handle NaNs can be applied. Dropping them seems to be more appropriate here."
   ]
  },
  {
   "cell_type": "markdown",
   "metadata": {
    "slideshow": {
     "slide_type": "slide"
    }
   },
   "source": [
    "#### Handling NaNs in Column \"Stars\""
   ]
  },
  {
   "cell_type": "code",
   "execution_count": 16,
   "metadata": {
    "slideshow": {
     "slide_type": "fragment"
    }
   },
   "outputs": [
    {
     "data": {
      "text/html": [
       "<div>\n",
       "<style scoped>\n",
       "    .dataframe tbody tr th:only-of-type {\n",
       "        vertical-align: middle;\n",
       "    }\n",
       "\n",
       "    .dataframe tbody tr th {\n",
       "        vertical-align: top;\n",
       "    }\n",
       "\n",
       "    .dataframe thead th {\n",
       "        text-align: right;\n",
       "    }\n",
       "</style>\n",
       "<table border=\"1\" class=\"dataframe\">\n",
       "  <thead>\n",
       "    <tr style=\"text-align: right;\">\n",
       "      <th></th>\n",
       "      <th>Review #</th>\n",
       "      <th>Brand</th>\n",
       "      <th>Variety</th>\n",
       "      <th>Style</th>\n",
       "      <th>Country</th>\n",
       "      <th>Stars</th>\n",
       "      <th>Top Ten</th>\n",
       "    </tr>\n",
       "  </thead>\n",
       "  <tbody>\n",
       "    <tr>\n",
       "      <th>32</th>\n",
       "      <td>2548</td>\n",
       "      <td>Ottogi</td>\n",
       "      <td>Plain Instant Noodle No Soup Included</td>\n",
       "      <td>Pack</td>\n",
       "      <td>South Korea</td>\n",
       "      <td>NaN</td>\n",
       "      <td>0</td>\n",
       "    </tr>\n",
       "    <tr>\n",
       "      <th>122</th>\n",
       "      <td>2458</td>\n",
       "      <td>Samyang Foods</td>\n",
       "      <td>Sari Ramen</td>\n",
       "      <td>Pack</td>\n",
       "      <td>South Korea</td>\n",
       "      <td>NaN</td>\n",
       "      <td>0</td>\n",
       "    </tr>\n",
       "    <tr>\n",
       "      <th>993</th>\n",
       "      <td>1587</td>\n",
       "      <td>Mi E-Zee</td>\n",
       "      <td>Plain Noodles</td>\n",
       "      <td>Pack</td>\n",
       "      <td>Malaysia</td>\n",
       "      <td>NaN</td>\n",
       "      <td>0</td>\n",
       "    </tr>\n",
       "  </tbody>\n",
       "</table>\n",
       "</div>"
      ],
      "text/plain": [
       "     Review #          Brand                                Variety Style  \\\n",
       "32       2548         Ottogi  Plain Instant Noodle No Soup Included  Pack   \n",
       "122      2458  Samyang Foods                             Sari Ramen  Pack   \n",
       "993      1587       Mi E-Zee                          Plain Noodles  Pack   \n",
       "\n",
       "         Country  Stars Top Ten  \n",
       "32   South Korea    NaN       0  \n",
       "122  South Korea    NaN       0  \n",
       "993     Malaysia    NaN       0  "
      ]
     },
     "execution_count": 16,
     "metadata": {},
     "output_type": "execute_result"
    }
   ],
   "source": [
    "dfNan = df[df.isnull().any(axis=1)]\n",
    "dfNan"
   ]
  },
  {
   "cell_type": "markdown",
   "metadata": {
    "slideshow": {
     "slide_type": "slide"
    }
   },
   "source": [
    "#### Logic employed to fill 3 NaNs in Column \"Stars\"\n",
    "\n",
    "#### We have considered Brand ,Country from dfNan and subsetted a dataframe subDf from df and filled the column \"Stars\" with the mean value. Here is the piece of code doing it."
   ]
  },
  {
   "cell_type": "code",
   "execution_count": 17,
   "metadata": {
    "slideshow": {
     "slide_type": "slide"
    }
   },
   "outputs": [],
   "source": [
    "for i in dfNan.index:\n",
    "    subDf = df.loc[(df['Brand']==dfNan.loc[i,'Brand']) & (df['Country']==dfNan.loc[i,'Country'])]\n",
    "    mean = subDf['Stars'].mean()\n",
    "    df.loc[i,'Stars'] = round(mean,2)"
   ]
  },
  {
   "cell_type": "raw",
   "metadata": {
    "slideshow": {
     "slide_type": "fragment"
    }
   },
   "source": [
    "Ottogi = df.loc[(df['Brand']=='Ottogi') & (df['Country']=='South Korea')]\n",
    "df.loc[32,'Stars'] = round(Ottogi.Stars.mean(),2)\n",
    "\n",
    "Samyang = df.loc[(df['Brand']=='Samyang Foods') & (df['Country']=='South Korea')]\n",
    "df.loc[122,'Stars'] = round(Samyang.Stars.mean(),2)\n",
    "\n",
    "Mi = df.loc[(df['Brand']=='Mi E-Zee') & (df['Country']=='South Korea')]\n",
    "df.loc[993,'Stars'] = Mi(Samyang.Stars.mean(),2)"
   ]
  },
  {
   "cell_type": "code",
   "execution_count": 18,
   "metadata": {
    "slideshow": {
     "slide_type": "subslide"
    }
   },
   "outputs": [
    {
     "data": {
      "text/plain": [
       "Review #    0\n",
       "Brand       0\n",
       "Variety     0\n",
       "Style       0\n",
       "Country     0\n",
       "Stars       0\n",
       "Top Ten     0\n",
       "dtype: int64"
      ]
     },
     "execution_count": 18,
     "metadata": {},
     "output_type": "execute_result"
    }
   ],
   "source": [
    "df.isna().sum() # Checking again for NaNs"
   ]
  },
  {
   "cell_type": "markdown",
   "metadata": {
    "slideshow": {
     "slide_type": "slide"
    }
   },
   "source": [
    "#### Remember we had stored dummy value \"0\" to the NaNs of column \"Top Ten\". Let us see how we can handle it."
   ]
  },
  {
   "cell_type": "code",
   "execution_count": 19,
   "metadata": {
    "slideshow": {
     "slide_type": "fragment"
    }
   },
   "outputs": [
    {
     "data": {
      "text/html": [
       "<div>\n",
       "<style scoped>\n",
       "    .dataframe tbody tr th:only-of-type {\n",
       "        vertical-align: middle;\n",
       "    }\n",
       "\n",
       "    .dataframe tbody tr th {\n",
       "        vertical-align: top;\n",
       "    }\n",
       "\n",
       "    .dataframe thead th {\n",
       "        text-align: right;\n",
       "    }\n",
       "</style>\n",
       "<table border=\"1\" class=\"dataframe\">\n",
       "  <thead>\n",
       "    <tr style=\"text-align: right;\">\n",
       "      <th></th>\n",
       "      <th>Review #</th>\n",
       "      <th>Brand</th>\n",
       "      <th>Variety</th>\n",
       "      <th>Style</th>\n",
       "      <th>Country</th>\n",
       "      <th>Stars</th>\n",
       "      <th>Top Ten</th>\n",
       "    </tr>\n",
       "  </thead>\n",
       "  <tbody>\n",
       "    <tr>\n",
       "      <th>616</th>\n",
       "      <td>1964</td>\n",
       "      <td>MAMA</td>\n",
       "      <td>Instant Noodles Coconut Milk Flavour</td>\n",
       "      <td>Pack</td>\n",
       "      <td>Myanmar</td>\n",
       "      <td>5.00</td>\n",
       "      <td>2016 #10</td>\n",
       "    </tr>\n",
       "    <tr>\n",
       "      <th>633</th>\n",
       "      <td>1947</td>\n",
       "      <td>Prima Taste</td>\n",
       "      <td>Singapore Laksa Wholegrain La Mian</td>\n",
       "      <td>Pack</td>\n",
       "      <td>Singapore</td>\n",
       "      <td>5.00</td>\n",
       "      <td>2016 #1</td>\n",
       "    </tr>\n",
       "    <tr>\n",
       "      <th>655</th>\n",
       "      <td>1925</td>\n",
       "      <td>Prima</td>\n",
       "      <td>Juzz's Mee Creamy Chicken Flavour</td>\n",
       "      <td>Pack</td>\n",
       "      <td>Singapore</td>\n",
       "      <td>5.00</td>\n",
       "      <td>2016 #8</td>\n",
       "    </tr>\n",
       "    <tr>\n",
       "      <th>673</th>\n",
       "      <td>1907</td>\n",
       "      <td>Prima Taste</td>\n",
       "      <td>Singapore Curry Wholegrain La Mian</td>\n",
       "      <td>Pack</td>\n",
       "      <td>Singapore</td>\n",
       "      <td>5.00</td>\n",
       "      <td>2016 #5</td>\n",
       "    </tr>\n",
       "    <tr>\n",
       "      <th>752</th>\n",
       "      <td>1828</td>\n",
       "      <td>Tseng Noodles</td>\n",
       "      <td>Scallion With Sichuan Pepper  Flavor</td>\n",
       "      <td>Pack</td>\n",
       "      <td>Taiwan</td>\n",
       "      <td>5.00</td>\n",
       "      <td>2016 #9</td>\n",
       "    </tr>\n",
       "    <tr>\n",
       "      <th>891</th>\n",
       "      <td>1689</td>\n",
       "      <td>Wugudaochang</td>\n",
       "      <td>Tomato Beef Brisket Flavor Purple Potato Noodle</td>\n",
       "      <td>Pack</td>\n",
       "      <td>China</td>\n",
       "      <td>5.00</td>\n",
       "      <td>2016 #7</td>\n",
       "    </tr>\n",
       "    <tr>\n",
       "      <th>942</th>\n",
       "      <td>1638</td>\n",
       "      <td>A-Sha Dry Noodle</td>\n",
       "      <td>Veggie Noodle Tomato Noodle With Vine Ripened ...</td>\n",
       "      <td>Pack</td>\n",
       "      <td>Taiwan</td>\n",
       "      <td>5.00</td>\n",
       "      <td>2015 #10</td>\n",
       "    </tr>\n",
       "    <tr>\n",
       "      <th>963</th>\n",
       "      <td>1617</td>\n",
       "      <td>MyKuali</td>\n",
       "      <td>Penang Hokkien Prawn Noodle (New Improved Taste)</td>\n",
       "      <td>Pack</td>\n",
       "      <td>Malaysia</td>\n",
       "      <td>5.00</td>\n",
       "      <td>2015 #7</td>\n",
       "    </tr>\n",
       "    <tr>\n",
       "      <th>995</th>\n",
       "      <td>1585</td>\n",
       "      <td>CarJEN</td>\n",
       "      <td>Nyonya Curry Laksa</td>\n",
       "      <td>Pack</td>\n",
       "      <td>Malaysia</td>\n",
       "      <td>5.00</td>\n",
       "      <td>2015 #4</td>\n",
       "    </tr>\n",
       "    <tr>\n",
       "      <th>1059</th>\n",
       "      <td>1521</td>\n",
       "      <td>Maruchan</td>\n",
       "      <td>Gotsumori Sauce Yakisoba</td>\n",
       "      <td>Tray</td>\n",
       "      <td>Japan</td>\n",
       "      <td>5.00</td>\n",
       "      <td>2015 #9</td>\n",
       "    </tr>\n",
       "    <tr>\n",
       "      <th>1072</th>\n",
       "      <td>1508</td>\n",
       "      <td>Mamee</td>\n",
       "      <td>Chef Gold Recipe Mi Kari Seribu Rasa</td>\n",
       "      <td>Pack</td>\n",
       "      <td>Malaysia</td>\n",
       "      <td>5.00</td>\n",
       "      <td>2015 #6</td>\n",
       "    </tr>\n",
       "    <tr>\n",
       "      <th>1080</th>\n",
       "      <td>1500</td>\n",
       "      <td>MyKuali</td>\n",
       "      <td>Penang Red Tom Yum Goong Noodle</td>\n",
       "      <td>Pack</td>\n",
       "      <td>Malaysia</td>\n",
       "      <td>5.00</td>\n",
       "      <td>2015 #1</td>\n",
       "    </tr>\n",
       "    <tr>\n",
       "      <th>1109</th>\n",
       "      <td>1471</td>\n",
       "      <td>Mama</td>\n",
       "      <td>Instant Noodles Shrimp Creamy Tom Yum Flavour ...</td>\n",
       "      <td>Pack</td>\n",
       "      <td>Thailand</td>\n",
       "      <td>5.00</td>\n",
       "      <td>2013 #10</td>\n",
       "    </tr>\n",
       "    <tr>\n",
       "      <th>1114</th>\n",
       "      <td>1466</td>\n",
       "      <td>Mama</td>\n",
       "      <td>Oriental Style Instant Noodles Green Curry Fla...</td>\n",
       "      <td>Pack</td>\n",
       "      <td>Thailand</td>\n",
       "      <td>5.00</td>\n",
       "      <td>2015 #8</td>\n",
       "    </tr>\n",
       "    <tr>\n",
       "      <th>1230</th>\n",
       "      <td>1350</td>\n",
       "      <td>Mamee</td>\n",
       "      <td>Chef Curry Laksa Flavour</td>\n",
       "      <td>Pack</td>\n",
       "      <td>Malaysia</td>\n",
       "      <td>5.00</td>\n",
       "      <td>2014 #7</td>\n",
       "    </tr>\n",
       "    <tr>\n",
       "      <th>1250</th>\n",
       "      <td>1330</td>\n",
       "      <td>Sapporo Ichiban</td>\n",
       "      <td>Otafuku Okonomi Sauce Yakisoba</td>\n",
       "      <td>Tray</td>\n",
       "      <td>Japan</td>\n",
       "      <td>5.00</td>\n",
       "      <td>2014 #4</td>\n",
       "    </tr>\n",
       "    <tr>\n",
       "      <th>1272</th>\n",
       "      <td>1308</td>\n",
       "      <td>Nongshim</td>\n",
       "      <td>Soon Veggie Noodle Soup</td>\n",
       "      <td>Pack</td>\n",
       "      <td>South Korea</td>\n",
       "      <td>5.00</td>\n",
       "      <td>2014 #9</td>\n",
       "    </tr>\n",
       "    <tr>\n",
       "      <th>1278</th>\n",
       "      <td>1302</td>\n",
       "      <td>Mama</td>\n",
       "      <td>Instant Noodles Yentafo Tom Yum Mohfai Flavour</td>\n",
       "      <td>Pack</td>\n",
       "      <td>Thailand</td>\n",
       "      <td>5.00</td>\n",
       "      <td>2014 #10</td>\n",
       "    </tr>\n",
       "    <tr>\n",
       "      <th>1309</th>\n",
       "      <td>1271</td>\n",
       "      <td>Prima Taste</td>\n",
       "      <td>Singapore Chilli Crab La Mian</td>\n",
       "      <td>Pack</td>\n",
       "      <td>Singapore</td>\n",
       "      <td>5.00</td>\n",
       "      <td>2014 #8</td>\n",
       "    </tr>\n",
       "    <tr>\n",
       "      <th>1382</th>\n",
       "      <td>1198</td>\n",
       "      <td>Samyang Foods</td>\n",
       "      <td>Maesaengyitangmyun Baked Noodle</td>\n",
       "      <td>Pack</td>\n",
       "      <td>South Korea</td>\n",
       "      <td>5.00</td>\n",
       "      <td>2014 #5</td>\n",
       "    </tr>\n",
       "    <tr>\n",
       "      <th>1397</th>\n",
       "      <td>1183</td>\n",
       "      <td>Paldo</td>\n",
       "      <td>Cheese Noodle</td>\n",
       "      <td>Pack</td>\n",
       "      <td>South Korea</td>\n",
       "      <td>5.00</td>\n",
       "      <td>2014 #6</td>\n",
       "    </tr>\n",
       "    <tr>\n",
       "      <th>1493</th>\n",
       "      <td>1087</td>\n",
       "      <td>MyKuali</td>\n",
       "      <td>Penang White Curry Noodle</td>\n",
       "      <td>Pack</td>\n",
       "      <td>Malaysia</td>\n",
       "      <td>5.00</td>\n",
       "      <td>2014 #1</td>\n",
       "    </tr>\n",
       "    <tr>\n",
       "      <th>1588</th>\n",
       "      <td>992</td>\n",
       "      <td>Prima Taste</td>\n",
       "      <td>Singapore Laksa La Mian</td>\n",
       "      <td>Pack</td>\n",
       "      <td>Singapore</td>\n",
       "      <td>5.00</td>\n",
       "      <td>2013 #1</td>\n",
       "    </tr>\n",
       "    <tr>\n",
       "      <th>1589</th>\n",
       "      <td>991</td>\n",
       "      <td>Prima Taste</td>\n",
       "      <td>Singapore Curry La Mian</td>\n",
       "      <td>Pack</td>\n",
       "      <td>Singapore</td>\n",
       "      <td>5.00</td>\n",
       "      <td>2013 #2</td>\n",
       "    </tr>\n",
       "    <tr>\n",
       "      <th>1646</th>\n",
       "      <td>934</td>\n",
       "      <td>Nongshim</td>\n",
       "      <td>Jinjja Jinjja Flamin' Hot &amp; Nutty</td>\n",
       "      <td>Pack</td>\n",
       "      <td>USA</td>\n",
       "      <td>5.00</td>\n",
       "      <td>2013 #4</td>\n",
       "    </tr>\n",
       "    <tr>\n",
       "      <th>1757</th>\n",
       "      <td>823</td>\n",
       "      <td>Paldo</td>\n",
       "      <td>Kokomen Spicy Chicken</td>\n",
       "      <td>Pack</td>\n",
       "      <td>South Korea</td>\n",
       "      <td>5.00</td>\n",
       "      <td>2013 #9</td>\n",
       "    </tr>\n",
       "    <tr>\n",
       "      <th>1865</th>\n",
       "      <td>715</td>\n",
       "      <td>Indomie</td>\n",
       "      <td>Mi Goreng Rendang (Import)</td>\n",
       "      <td>Pack</td>\n",
       "      <td>Indonesia</td>\n",
       "      <td>5.00</td>\n",
       "      <td>2013 #3</td>\n",
       "    </tr>\n",
       "    <tr>\n",
       "      <th>1972</th>\n",
       "      <td>608</td>\n",
       "      <td>Koka</td>\n",
       "      <td>Spicy Black Pepper</td>\n",
       "      <td>Pack</td>\n",
       "      <td>Singapore</td>\n",
       "      <td>5.00</td>\n",
       "      <td>2012 #10</td>\n",
       "    </tr>\n",
       "    <tr>\n",
       "      <th>2002</th>\n",
       "      <td>578</td>\n",
       "      <td>Nongshim</td>\n",
       "      <td>Shin Ramyun Black</td>\n",
       "      <td>Pack</td>\n",
       "      <td>South Korea</td>\n",
       "      <td>4.75</td>\n",
       "      <td>2012 #7</td>\n",
       "    </tr>\n",
       "    <tr>\n",
       "      <th>2146</th>\n",
       "      <td>434</td>\n",
       "      <td>Mi Sedaap</td>\n",
       "      <td>Kari Spesial</td>\n",
       "      <td>Pack</td>\n",
       "      <td>Indonesia</td>\n",
       "      <td>4.50</td>\n",
       "      <td>2012 #5</td>\n",
       "    </tr>\n",
       "    <tr>\n",
       "      <th>2188</th>\n",
       "      <td>392</td>\n",
       "      <td>Nissin</td>\n",
       "      <td>Yakisoba Noodles Karashi</td>\n",
       "      <td>Tray</td>\n",
       "      <td>Japan</td>\n",
       "      <td>5.00</td>\n",
       "      <td>2012 #3</td>\n",
       "    </tr>\n",
       "    <tr>\n",
       "      <th>2189</th>\n",
       "      <td>391</td>\n",
       "      <td>Myojo</td>\n",
       "      <td>Hyoubanya No Chukasoba Oriental</td>\n",
       "      <td>Pack</td>\n",
       "      <td>Japan</td>\n",
       "      <td>4.25</td>\n",
       "      <td>2012 #6</td>\n",
       "    </tr>\n",
       "    <tr>\n",
       "      <th>2295</th>\n",
       "      <td>285</td>\n",
       "      <td>Doll</td>\n",
       "      <td>Artificial Chicken</td>\n",
       "      <td>Pack</td>\n",
       "      <td>Hong Kong</td>\n",
       "      <td>4.50</td>\n",
       "      <td>2012 #9</td>\n",
       "    </tr>\n",
       "    <tr>\n",
       "      <th>2475</th>\n",
       "      <td>105</td>\n",
       "      <td>Indomie</td>\n",
       "      <td>Special Fried Curly Noodle</td>\n",
       "      <td>Pack</td>\n",
       "      <td>Indonesia</td>\n",
       "      <td>5.00</td>\n",
       "      <td>2012 #1</td>\n",
       "    </tr>\n",
       "    <tr>\n",
       "      <th>2533</th>\n",
       "      <td>47</td>\n",
       "      <td>Indomie</td>\n",
       "      <td>Mi Goreng Jumbo Barbecue Chicken</td>\n",
       "      <td>Pack</td>\n",
       "      <td>Indonesia</td>\n",
       "      <td>5.00</td>\n",
       "      <td>2012 #2</td>\n",
       "    </tr>\n",
       "    <tr>\n",
       "      <th>2549</th>\n",
       "      <td>31</td>\n",
       "      <td>Myojo</td>\n",
       "      <td>Ippeichan Yakisoba</td>\n",
       "      <td>Tray</td>\n",
       "      <td>Japan</td>\n",
       "      <td>4.00</td>\n",
       "      <td>2013 #6</td>\n",
       "    </tr>\n",
       "    <tr>\n",
       "      <th>2567</th>\n",
       "      <td>13</td>\n",
       "      <td>Sapporo Ichiban</td>\n",
       "      <td>Chow Mein</td>\n",
       "      <td>Pack</td>\n",
       "      <td>Japan</td>\n",
       "      <td>5.00</td>\n",
       "      <td>2012 #4</td>\n",
       "    </tr>\n",
       "  </tbody>\n",
       "</table>\n",
       "</div>"
      ],
      "text/plain": [
       "      Review #             Brand  \\\n",
       "616       1964              MAMA   \n",
       "633       1947       Prima Taste   \n",
       "655       1925             Prima   \n",
       "673       1907       Prima Taste   \n",
       "752       1828     Tseng Noodles   \n",
       "891       1689      Wugudaochang   \n",
       "942       1638  A-Sha Dry Noodle   \n",
       "963       1617           MyKuali   \n",
       "995       1585            CarJEN   \n",
       "1059      1521          Maruchan   \n",
       "1072      1508             Mamee   \n",
       "1080      1500           MyKuali   \n",
       "1109      1471              Mama   \n",
       "1114      1466              Mama   \n",
       "1230      1350             Mamee   \n",
       "1250      1330   Sapporo Ichiban   \n",
       "1272      1308          Nongshim   \n",
       "1278      1302              Mama   \n",
       "1309      1271       Prima Taste   \n",
       "1382      1198     Samyang Foods   \n",
       "1397      1183             Paldo   \n",
       "1493      1087           MyKuali   \n",
       "1588       992       Prima Taste   \n",
       "1589       991       Prima Taste   \n",
       "1646       934          Nongshim   \n",
       "1757       823             Paldo   \n",
       "1865       715           Indomie   \n",
       "1972       608              Koka   \n",
       "2002       578          Nongshim   \n",
       "2146       434         Mi Sedaap   \n",
       "2188       392            Nissin   \n",
       "2189       391             Myojo   \n",
       "2295       285              Doll   \n",
       "2475       105           Indomie   \n",
       "2533        47           Indomie   \n",
       "2549        31             Myojo   \n",
       "2567        13   Sapporo Ichiban   \n",
       "\n",
       "                                                Variety Style      Country  \\\n",
       "616                Instant Noodles Coconut Milk Flavour  Pack      Myanmar   \n",
       "633                  Singapore Laksa Wholegrain La Mian  Pack    Singapore   \n",
       "655                   Juzz's Mee Creamy Chicken Flavour  Pack    Singapore   \n",
       "673                  Singapore Curry Wholegrain La Mian  Pack    Singapore   \n",
       "752                Scallion With Sichuan Pepper  Flavor  Pack       Taiwan   \n",
       "891     Tomato Beef Brisket Flavor Purple Potato Noodle  Pack        China   \n",
       "942   Veggie Noodle Tomato Noodle With Vine Ripened ...  Pack       Taiwan   \n",
       "963    Penang Hokkien Prawn Noodle (New Improved Taste)  Pack     Malaysia   \n",
       "995                                  Nyonya Curry Laksa  Pack     Malaysia   \n",
       "1059                           Gotsumori Sauce Yakisoba  Tray        Japan   \n",
       "1072               Chef Gold Recipe Mi Kari Seribu Rasa  Pack     Malaysia   \n",
       "1080                    Penang Red Tom Yum Goong Noodle  Pack     Malaysia   \n",
       "1109  Instant Noodles Shrimp Creamy Tom Yum Flavour ...  Pack     Thailand   \n",
       "1114  Oriental Style Instant Noodles Green Curry Fla...  Pack     Thailand   \n",
       "1230                           Chef Curry Laksa Flavour  Pack     Malaysia   \n",
       "1250                     Otafuku Okonomi Sauce Yakisoba  Tray        Japan   \n",
       "1272                            Soon Veggie Noodle Soup  Pack  South Korea   \n",
       "1278     Instant Noodles Yentafo Tom Yum Mohfai Flavour  Pack     Thailand   \n",
       "1309                      Singapore Chilli Crab La Mian  Pack    Singapore   \n",
       "1382                    Maesaengyitangmyun Baked Noodle  Pack  South Korea   \n",
       "1397                                      Cheese Noodle  Pack  South Korea   \n",
       "1493                          Penang White Curry Noodle  Pack     Malaysia   \n",
       "1588                            Singapore Laksa La Mian  Pack    Singapore   \n",
       "1589                            Singapore Curry La Mian  Pack    Singapore   \n",
       "1646                  Jinjja Jinjja Flamin' Hot & Nutty  Pack          USA   \n",
       "1757                              Kokomen Spicy Chicken  Pack  South Korea   \n",
       "1865                         Mi Goreng Rendang (Import)  Pack    Indonesia   \n",
       "1972                                 Spicy Black Pepper  Pack    Singapore   \n",
       "2002                                  Shin Ramyun Black  Pack  South Korea   \n",
       "2146                                       Kari Spesial  Pack    Indonesia   \n",
       "2188                           Yakisoba Noodles Karashi  Tray        Japan   \n",
       "2189                    Hyoubanya No Chukasoba Oriental  Pack        Japan   \n",
       "2295                                 Artificial Chicken  Pack    Hong Kong   \n",
       "2475                         Special Fried Curly Noodle  Pack    Indonesia   \n",
       "2533                   Mi Goreng Jumbo Barbecue Chicken  Pack    Indonesia   \n",
       "2549                                 Ippeichan Yakisoba  Tray        Japan   \n",
       "2567                                          Chow Mein  Pack        Japan   \n",
       "\n",
       "      Stars   Top Ten  \n",
       "616    5.00  2016 #10  \n",
       "633    5.00   2016 #1  \n",
       "655    5.00   2016 #8  \n",
       "673    5.00   2016 #5  \n",
       "752    5.00   2016 #9  \n",
       "891    5.00   2016 #7  \n",
       "942    5.00  2015 #10  \n",
       "963    5.00   2015 #7  \n",
       "995    5.00   2015 #4  \n",
       "1059   5.00   2015 #9  \n",
       "1072   5.00   2015 #6  \n",
       "1080   5.00   2015 #1  \n",
       "1109   5.00  2013 #10  \n",
       "1114   5.00   2015 #8  \n",
       "1230   5.00   2014 #7  \n",
       "1250   5.00   2014 #4  \n",
       "1272   5.00   2014 #9  \n",
       "1278   5.00  2014 #10  \n",
       "1309   5.00   2014 #8  \n",
       "1382   5.00   2014 #5  \n",
       "1397   5.00   2014 #6  \n",
       "1493   5.00   2014 #1  \n",
       "1588   5.00   2013 #1  \n",
       "1589   5.00   2013 #2  \n",
       "1646   5.00   2013 #4  \n",
       "1757   5.00   2013 #9  \n",
       "1865   5.00   2013 #3  \n",
       "1972   5.00  2012 #10  \n",
       "2002   4.75   2012 #7  \n",
       "2146   4.50   2012 #5  \n",
       "2188   5.00   2012 #3  \n",
       "2189   4.25   2012 #6  \n",
       "2295   4.50   2012 #9  \n",
       "2475   5.00   2012 #1  \n",
       "2533   5.00   2012 #2  \n",
       "2549   4.00   2013 #6  \n",
       "2567   5.00   2012 #4  "
      ]
     },
     "execution_count": 19,
     "metadata": {},
     "output_type": "execute_result"
    }
   ],
   "source": [
    "df[df['Top Ten'] != 0]"
   ]
  },
  {
   "cell_type": "markdown",
   "metadata": {
    "slideshow": {
     "slide_type": "slide"
    }
   },
   "source": [
    "#### Nissin brand has the highest number of varities but it does not feature in the top ranking. This is a perfect example that one should maintain the quality of a product rather than the quantity. "
   ]
  },
  {
   "cell_type": "code",
   "execution_count": 20,
   "metadata": {
    "slideshow": {
     "slide_type": "slide"
    }
   },
   "outputs": [],
   "source": [
    "years=['2012','2013','2014','2015','2016']\n",
    "for y in years:\n",
    "    df[y+'_rank']=np.nan"
   ]
  },
  {
   "cell_type": "code",
   "execution_count": 21,
   "metadata": {
    "slideshow": {
     "slide_type": "fragment"
    }
   },
   "outputs": [],
   "source": [
    "for rank in df['Top Ten'].values:\n",
    "    for y in years:\n",
    "        if re.search('^'+y,str(rank)):\n",
    "            index = df[df['Top Ten']==rank].index.values\n",
    "            rank_number = str(rank).split()[-1]\n",
    "            df.loc[index,y+'_rank'] = int(''.join([i for i in rank_number if i.isdigit()]))\n",
    "df.drop('Top Ten', axis=1, inplace=True)"
   ]
  },
  {
   "cell_type": "raw",
   "metadata": {
    "slideshow": {
     "slide_type": "fragment"
    }
   },
   "source": [
    "Searching for specific year with the help of regex.\n",
    "Stroring the row number for each value.\n",
    "Extracting the rank which is at the end of the string.\n",
    "Storing the rank at the specific year column and specific row index we stored at step2.\n",
    "Dropping the \"Top Ten\" column."
   ]
  },
  {
   "cell_type": "code",
   "execution_count": 22,
   "metadata": {
    "slideshow": {
     "slide_type": "slide"
    }
   },
   "outputs": [
    {
     "data": {
      "text/html": [
       "<div>\n",
       "<style scoped>\n",
       "    .dataframe tbody tr th:only-of-type {\n",
       "        vertical-align: middle;\n",
       "    }\n",
       "\n",
       "    .dataframe tbody tr th {\n",
       "        vertical-align: top;\n",
       "    }\n",
       "\n",
       "    .dataframe thead th {\n",
       "        text-align: right;\n",
       "    }\n",
       "</style>\n",
       "<table border=\"1\" class=\"dataframe\">\n",
       "  <thead>\n",
       "    <tr style=\"text-align: right;\">\n",
       "      <th></th>\n",
       "      <th>Review #</th>\n",
       "      <th>Brand</th>\n",
       "      <th>Variety</th>\n",
       "      <th>Style</th>\n",
       "      <th>Country</th>\n",
       "      <th>Stars</th>\n",
       "      <th>2012_rank</th>\n",
       "      <th>2013_rank</th>\n",
       "      <th>2014_rank</th>\n",
       "      <th>2015_rank</th>\n",
       "      <th>2016_rank</th>\n",
       "    </tr>\n",
       "  </thead>\n",
       "  <tbody>\n",
       "    <tr>\n",
       "      <th>0</th>\n",
       "      <td>2580</td>\n",
       "      <td>New Touch</td>\n",
       "      <td>T's Restaurant Tantanmen</td>\n",
       "      <td>Cup</td>\n",
       "      <td>Japan</td>\n",
       "      <td>3.75</td>\n",
       "      <td>0.0</td>\n",
       "      <td>0.0</td>\n",
       "      <td>0.0</td>\n",
       "      <td>0.0</td>\n",
       "      <td>0.0</td>\n",
       "    </tr>\n",
       "    <tr>\n",
       "      <th>1</th>\n",
       "      <td>2579</td>\n",
       "      <td>Just Way</td>\n",
       "      <td>Noodles Spicy Hot Sesame Spicy Hot Sesame Guan...</td>\n",
       "      <td>Pack</td>\n",
       "      <td>Taiwan</td>\n",
       "      <td>1.00</td>\n",
       "      <td>0.0</td>\n",
       "      <td>0.0</td>\n",
       "      <td>0.0</td>\n",
       "      <td>0.0</td>\n",
       "      <td>0.0</td>\n",
       "    </tr>\n",
       "    <tr>\n",
       "      <th>2</th>\n",
       "      <td>2578</td>\n",
       "      <td>Nissin</td>\n",
       "      <td>Cup Noodles Chicken Vegetable</td>\n",
       "      <td>Cup</td>\n",
       "      <td>USA</td>\n",
       "      <td>2.25</td>\n",
       "      <td>0.0</td>\n",
       "      <td>0.0</td>\n",
       "      <td>0.0</td>\n",
       "      <td>0.0</td>\n",
       "      <td>0.0</td>\n",
       "    </tr>\n",
       "    <tr>\n",
       "      <th>3</th>\n",
       "      <td>2577</td>\n",
       "      <td>Wei Lih</td>\n",
       "      <td>GGE Ramen Snack Tomato Flavor</td>\n",
       "      <td>Pack</td>\n",
       "      <td>Taiwan</td>\n",
       "      <td>2.75</td>\n",
       "      <td>0.0</td>\n",
       "      <td>0.0</td>\n",
       "      <td>0.0</td>\n",
       "      <td>0.0</td>\n",
       "      <td>0.0</td>\n",
       "    </tr>\n",
       "    <tr>\n",
       "      <th>4</th>\n",
       "      <td>2576</td>\n",
       "      <td>Ching's Secret</td>\n",
       "      <td>Singapore Curry</td>\n",
       "      <td>Pack</td>\n",
       "      <td>India</td>\n",
       "      <td>3.75</td>\n",
       "      <td>0.0</td>\n",
       "      <td>0.0</td>\n",
       "      <td>0.0</td>\n",
       "      <td>0.0</td>\n",
       "      <td>0.0</td>\n",
       "    </tr>\n",
       "  </tbody>\n",
       "</table>\n",
       "</div>"
      ],
      "text/plain": [
       "   Review #           Brand  \\\n",
       "0      2580       New Touch   \n",
       "1      2579        Just Way   \n",
       "2      2578          Nissin   \n",
       "3      2577         Wei Lih   \n",
       "4      2576  Ching's Secret   \n",
       "\n",
       "                                             Variety Style Country  Stars  \\\n",
       "0                          T's Restaurant Tantanmen    Cup   Japan   3.75   \n",
       "1  Noodles Spicy Hot Sesame Spicy Hot Sesame Guan...  Pack  Taiwan   1.00   \n",
       "2                      Cup Noodles Chicken Vegetable   Cup     USA   2.25   \n",
       "3                      GGE Ramen Snack Tomato Flavor  Pack  Taiwan   2.75   \n",
       "4                                    Singapore Curry  Pack   India   3.75   \n",
       "\n",
       "   2012_rank  2013_rank  2014_rank  2015_rank  2016_rank  \n",
       "0        0.0        0.0        0.0        0.0        0.0  \n",
       "1        0.0        0.0        0.0        0.0        0.0  \n",
       "2        0.0        0.0        0.0        0.0        0.0  \n",
       "3        0.0        0.0        0.0        0.0        0.0  \n",
       "4        0.0        0.0        0.0        0.0        0.0  "
      ]
     },
     "execution_count": 22,
     "metadata": {},
     "output_type": "execute_result"
    }
   ],
   "source": [
    "df.fillna(0, inplace=True)\n",
    "df.head()"
   ]
  },
  {
   "cell_type": "code",
   "execution_count": 23,
   "metadata": {
    "slideshow": {
     "slide_type": "slide"
    }
   },
   "outputs": [
    {
     "data": {
      "text/plain": [
       "Review #     0\n",
       "Brand        0\n",
       "Variety      0\n",
       "Style        0\n",
       "Country      0\n",
       "Stars        0\n",
       "2012_rank    0\n",
       "2013_rank    0\n",
       "2014_rank    0\n",
       "2015_rank    0\n",
       "2016_rank    0\n",
       "dtype: int64"
      ]
     },
     "execution_count": 23,
     "metadata": {},
     "output_type": "execute_result"
    }
   ],
   "source": [
    "df.isna().sum()"
   ]
  },
  {
   "cell_type": "code",
   "execution_count": 24,
   "metadata": {
    "slideshow": {
     "slide_type": "slide"
    }
   },
   "outputs": [
    {
     "data": {
      "text/plain": [
       "0.0     2569\n",
       "4.0        1\n",
       "2.0        1\n",
       "1.0        1\n",
       "9.0        1\n",
       "6.0        1\n",
       "3.0        1\n",
       "5.0        1\n",
       "7.0        1\n",
       "10.0       1\n",
       "Name: 2012_rank, dtype: int64"
      ]
     },
     "execution_count": 24,
     "metadata": {},
     "output_type": "execute_result"
    }
   ],
   "source": [
    "df[\"2012_rank\"].value_counts()"
   ]
  },
  {
   "cell_type": "code",
   "execution_count": 25,
   "metadata": {
    "slideshow": {
     "slide_type": "slide"
    }
   },
   "outputs": [
    {
     "data": {
      "text/plain": [
       "0.0     2571\n",
       "6.0        1\n",
       "3.0        1\n",
       "9.0        1\n",
       "4.0        1\n",
       "2.0        1\n",
       "1.0        1\n",
       "10.0       1\n",
       "Name: 2013_rank, dtype: int64"
      ]
     },
     "execution_count": 25,
     "metadata": {},
     "output_type": "execute_result"
    }
   ],
   "source": [
    "df[\"2013_rank\"].value_counts()"
   ]
  },
  {
   "cell_type": "code",
   "execution_count": 26,
   "metadata": {
    "slideshow": {
     "slide_type": "slide"
    }
   },
   "outputs": [
    {
     "data": {
      "text/plain": [
       "0.0     2570\n",
       "1.0        1\n",
       "6.0        1\n",
       "5.0        1\n",
       "8.0        1\n",
       "10.0       1\n",
       "9.0        1\n",
       "4.0        1\n",
       "7.0        1\n",
       "Name: 2014_rank, dtype: int64"
      ]
     },
     "execution_count": 26,
     "metadata": {},
     "output_type": "execute_result"
    }
   ],
   "source": [
    "df[\"2014_rank\"].value_counts()"
   ]
  },
  {
   "cell_type": "code",
   "execution_count": 27,
   "metadata": {
    "slideshow": {
     "slide_type": "slide"
    }
   },
   "outputs": [
    {
     "data": {
      "text/plain": [
       "0.0     2571\n",
       "8.0        1\n",
       "1.0        1\n",
       "6.0        1\n",
       "9.0        1\n",
       "4.0        1\n",
       "7.0        1\n",
       "10.0       1\n",
       "Name: 2015_rank, dtype: int64"
      ]
     },
     "execution_count": 27,
     "metadata": {},
     "output_type": "execute_result"
    }
   ],
   "source": [
    "df[\"2015_rank\"].value_counts()"
   ]
  },
  {
   "cell_type": "code",
   "execution_count": 28,
   "metadata": {
    "slideshow": {
     "slide_type": "slide"
    }
   },
   "outputs": [
    {
     "data": {
      "text/plain": [
       "0.0     2572\n",
       "7.0        1\n",
       "9.0        1\n",
       "5.0        1\n",
       "8.0        1\n",
       "1.0        1\n",
       "10.0       1\n",
       "Name: 2016_rank, dtype: int64"
      ]
     },
     "execution_count": 28,
     "metadata": {},
     "output_type": "execute_result"
    }
   ],
   "source": [
    "df[\"2016_rank\"].value_counts()"
   ]
  },
  {
   "cell_type": "markdown",
   "metadata": {
    "slideshow": {
     "slide_type": "slide"
    }
   },
   "source": [
    "# Visualise and Analyse"
   ]
  },
  {
   "cell_type": "markdown",
   "metadata": {
    "slideshow": {
     "slide_type": "slide"
    }
   },
   "source": [
    "#### Q) What is the popularity of ramens across the countries?"
   ]
  },
  {
   "cell_type": "code",
   "execution_count": 29,
   "metadata": {
    "slideshow": {
     "slide_type": "slide"
    }
   },
   "outputs": [
    {
     "data": {
      "image/png": "[encoded data removed]",
      "text/plain": [
       "<Figure size 864x576 with 1 Axes>"
      ]
     },
     "metadata": {
      "needs_background": "light"
     },
     "output_type": "display_data"
    }
   ],
   "source": [
    "v = df.Country.value_counts()\n",
    "v=v.sort_values(ascending=True)\n",
    "fig, ax = plt.subplots(figsize=(12,8))\n",
    "v.plot(kind='barh')\n",
    "plt.show()"
   ]
  },
  {
   "cell_type": "markdown",
   "metadata": {
    "slideshow": {
     "slide_type": "slide"
    }
   },
   "source": [
    "#### what do we infer from the question \"Popularity of ramens country-wise!\"?"
   ]
  },
  {
   "cell_type": "markdown",
   "metadata": {
    "slideshow": {
     "slide_type": "fragment"
    }
   },
   "source": [
    "#### Ramen is very popular and highly preferred in Mangolian countries like Japan,China,South korea etc. Exception to this generalisation are USA and UK. We can say that migration of people from Mangolian countries to USA and UK is high and that has resulted in high Ramen Consumption in those 2 countries."
   ]
  },
  {
   "cell_type": "markdown",
   "metadata": {
    "slideshow": {
     "slide_type": "slide"
    }
   },
   "source": [
    "#### Q) Number of varities in each brand?"
   ]
  },
  {
   "cell_type": "code",
   "execution_count": 30,
   "metadata": {
    "slideshow": {
     "slide_type": "fragment"
    }
   },
   "outputs": [
    {
     "data": {
      "image/png": "[encoded data removed]",
      "text/plain": [
       "<Figure size 1080x288 with 1 Axes>"
      ]
     },
     "metadata": {
      "needs_background": "light"
     },
     "output_type": "display_data"
    }
   ],
   "source": [
    "brands_name = df.Brand.value_counts()[:10].index\n",
    "brand_size = df.Brand.value_counts()[:10].values\n",
    "\n",
    "fig,ax=plt.subplots(figsize=(15,4))\n",
    "ax.bar(brands_name, brand_size, data=df)\n",
    "ax.set_ylabel('Number of products')\n",
    "for p in ax.patches:\n",
    "    an=ax.annotate(str(p.get_height()), xy=(p.get_x(),p.get_height()))\n",
    "    an.set_size(12)"
   ]
  },
  {
   "cell_type": "markdown",
   "metadata": {
    "slideshow": {
     "slide_type": "subslide"
    }
   },
   "source": [
    "#### We see \"Nissin\" brand to be having the highest number of varities followed by \"Nongshim\" and \"Maruchan\" . "
   ]
  },
  {
   "cell_type": "markdown",
   "metadata": {
    "slideshow": {
     "slide_type": "slide"
    }
   },
   "source": [
    "#### Q) What are the popular \"Styles\" across countries?"
   ]
  },
  {
   "cell_type": "code",
   "execution_count": 31,
   "metadata": {
    "slideshow": {
     "slide_type": "fragment"
    }
   },
   "outputs": [
    {
     "data": {
      "text/plain": [
       "Pack    1531\n",
       "Bowl     481\n",
       "Cup      450\n",
       "Tray     108\n",
       "Box        6\n",
       "Bar        1\n",
       "Can        1\n",
       "Name: Style, dtype: int64"
      ]
     },
     "execution_count": 31,
     "metadata": {},
     "output_type": "execute_result"
    }
   ],
   "source": [
    "style=df.Style.value_counts()\n",
    "style"
   ]
  },
  {
   "cell_type": "code",
   "execution_count": 32,
   "metadata": {
    "slideshow": {
     "slide_type": "subslide"
    }
   },
   "outputs": [
    {
     "data": {
      "image/png": "[encoded data removed]",
      "text/plain": [
       "<Figure size 432x288 with 1 Axes>"
      ]
     },
     "metadata": {},
     "output_type": "display_data"
    }
   ],
   "source": [
    "plt.pie(style[0:4],pctdistance=1.5,autopct=\"%2.01f%%\",radius=1.7,labels=['Pack','Bowl','Cup','Tray'],\n",
    "        explode=[0,0,0,0.3],\n",
    "       textprops={'fontsize': 14})\n",
    "plt.show()"
   ]
  },
  {
   "cell_type": "code",
   "execution_count": 33,
   "metadata": {
    "slideshow": {
     "slide_type": "subslide"
    }
   },
   "outputs": [
    {
     "data": {
      "image/png": "[encoded data removed]",
      "text/plain": [
       "<Figure size 288x720 with 1 Axes>"
      ]
     },
     "metadata": {
      "needs_background": "light"
     },
     "output_type": "display_data"
    }
   ],
   "source": [
    "a4_dims = (4, 10)\n",
    "fig, ax = plt.subplots(figsize=a4_dims)\n",
    "sns.scatterplot(ax=ax, data=df,y='Country',x='Style')\n",
    "plt.show()"
   ]
  },
  {
   "cell_type": "markdown",
   "metadata": {
    "slideshow": {
     "slide_type": "slide"
    }
   },
   "source": [
    "#### what do we infer from the question \"What are the popular \"Styles\" across the countries?\""
   ]
  },
  {
   "cell_type": "markdown",
   "metadata": {
    "slideshow": {
     "slide_type": "fragment"
    }
   },
   "source": [
    "#### \"Pack\" Style is most preferred with 59.6% and followed by \"Bowl\" and \"Cup\"(~18% each)"
   ]
  },
  {
   "cell_type": "markdown",
   "metadata": {
    "slideshow": {
     "slide_type": "slide"
    }
   },
   "source": [
    "#### What is the density distribution for the \"Stars\" of Ramen?"
   ]
  },
  {
   "cell_type": "code",
   "execution_count": 34,
   "metadata": {
    "slideshow": {
     "slide_type": "fragment"
    }
   },
   "outputs": [
    {
     "data": {
      "image/png": "[encoded data removed]",
      "text/plain": [
       "<Figure size 432x288 with 1 Axes>"
      ]
     },
     "metadata": {
      "needs_background": "light"
     },
     "output_type": "display_data"
    }
   ],
   "source": [
    "sns.distplot(df['Stars'],hist=True,kde=True,bins=5)\n",
    "plt.show()"
   ]
  },
  {
   "cell_type": "markdown",
   "metadata": {
    "slideshow": {
     "slide_type": "slide"
    }
   },
   "source": [
    "#### what do we infer from the question \"What is the density distribution for the \"Stars\" of Ramen?\""
   ]
  },
  {
   "cell_type": "markdown",
   "metadata": {
    "slideshow": {
     "slide_type": "fragment"
    }
   },
   "source": [
    "#### The plot of density of \"Stars\" shows that it is \"Left Skewed\"."
   ]
  },
  {
   "cell_type": "markdown",
   "metadata": {
    "slideshow": {
     "slide_type": "slide"
    }
   },
   "source": [
    "### Have you noticed that Japan, USA and South Korea are the top 3 consumers of Ramen?"
   ]
  },
  {
   "cell_type": "code",
   "execution_count": 35,
   "metadata": {
    "slideshow": {
     "slide_type": "fragment"
    }
   },
   "outputs": [
    {
     "data": {
      "image/png": "[encoded data removed]",
      "text/plain": [
       "<Figure size 864x576 with 1 Axes>"
      ]
     },
     "metadata": {
      "needs_background": "light"
     },
     "output_type": "display_data"
    }
   ],
   "source": [
    "v = df.Country.value_counts()\n",
    "v=v.sort_values(ascending=True)\n",
    "fig, ax = plt.subplots(figsize=(12,8))\n",
    "v.plot(kind='barh')\n",
    "plt.show()"
   ]
  },
  {
   "cell_type": "markdown",
   "metadata": {
    "slideshow": {
     "slide_type": "slide"
    }
   },
   "source": [
    "### Let's analyse further...."
   ]
  },
  {
   "cell_type": "markdown",
   "metadata": {
    "slideshow": {
     "slide_type": "slide"
    }
   },
   "source": [
    "#### Top 3 most preferred brands in Japan, USA and South Korea?"
   ]
  },
  {
   "cell_type": "code",
   "execution_count": 36,
   "metadata": {
    "slideshow": {
     "slide_type": "skip"
    }
   },
   "outputs": [
    {
     "data": {
      "image/png": "[encoded data removed]",
      "text/plain": [
       "<Figure size 1080x360 with 3 Axes>"
      ]
     },
     "metadata": {
      "needs_background": "light"
     },
     "output_type": "display_data"
    }
   ],
   "source": [
    "japan=df.loc[(df['Country'] == 'Japan') & (df['Stars'] >= 4.5)]\n",
    "usa=df.loc[(df['Country'] == 'USA') & (df['Stars'] >= 4.5)]\n",
    "south_korea=df.loc[(df['Country'] == 'South Korea') & (df['Stars'] >= 4.5)]\n",
    "fig, axes = plt.subplots(1, 3, figsize=(15, 5), sharey=True)\n",
    "\n",
    "# TITLE\n",
    "fig.suptitle('TOP RAMEN BRANDS')\n",
    "axes[0].set_title('TOP 3 MOST PREFFERED RAMEN BRANDS IN JAPAN',fontsize=10)\n",
    "axes[1].set_title('TOP 3 MOST PREFFERED RAMEN BRANDS IN USA',fontsize=10)\n",
    "axes[2].set_title('TOP 3 MOST PREFFERED RAMEN BRANDS IN SOUTH KOREA',fontsize=10)\n",
    "axes[0].set_ylabel('PREFFERED TIMES', fontsize=10)\n",
    "axes[0].set_xlabel('BRANDS', fontsize=10)\n",
    "axes[1].set_ylabel('PREFFERED TIMES', fontsize=10)\n",
    "axes[1].set_xlabel('BRANDS', fontsize=10)\n",
    "axes[2].set_ylabel('PREFFERED TIMES', fontsize=10)\n",
    "axes[2].set_xlabel('BRANDS', fontsize=10)\n",
    "\n",
    "# JAPAN\n",
    "x_jp= japan['Brand'].value_counts()\n",
    "x_jp= x_jp[:3,]\n",
    "sns.barplot(ax=axes[0],x=x_jp.index, y=x_jp.values,palette=\"Paired\")\n",
    "\n",
    "# USA\n",
    "x_usa= usa['Brand'].value_counts()\n",
    "x_usa= x_usa[:3,]\n",
    "sns.barplot(ax=axes[1],x=x_usa.index,y= x_usa.values,palette=\"hls\")\n",
    "\n",
    "# SOUTH KOREA\n",
    "x_sk= south_korea['Brand'].value_counts()\n",
    "x_sk= x_sk[:3,]\n",
    "sns.barplot(ax=axes[2],x=x_sk.index,y= x_sk.values,palette=\"Paired\")\n",
    "plt.show()"
   ]
  },
  {
   "cell_type": "markdown",
   "metadata": {
    "slideshow": {
     "slide_type": "skip"
    }
   },
   "source": [
    "### Star Rating Analysis in Japan"
   ]
  },
  {
   "cell_type": "code",
   "execution_count": 37,
   "metadata": {
    "slideshow": {
     "slide_type": "skip"
    }
   },
   "outputs": [
    {
     "data": {
      "image/png": "[encoded data removed]",
      "text/plain": [
       "<Figure size 1080x1080 with 3 Axes>"
      ]
     },
     "metadata": {},
     "output_type": "display_data"
    },
    {
     "data": {
      "image/png": "[encoded data removed]",
      "text/plain": [
       "<Figure size 1080x360 with 3 Axes>"
      ]
     },
     "metadata": {
      "needs_background": "light"
     },
     "output_type": "display_data"
    }
   ],
   "source": [
    "# NISSIN\n",
    "jn1=df.loc[(df['Country'] == 'Japan') & (df['Stars'] >= 4)& (df['Brand']=='Nissin')]\n",
    "jn2=df.loc[(df['Country'] == 'Japan') & (df['Stars'] < 4)& (df['Brand']=='Nissin')]\n",
    "totjnp=jn1['Review #'].sum()\n",
    "totjnn=jn2['Review #'].sum()\n",
    "rev1 = totjnp,totjnn\n",
    "\n",
    "# MYOJO\n",
    "jmy1=df.loc[(df['Country'] == 'Japan') & (df['Stars'] >= 4)& (df['Brand']=='Myojo')]\n",
    "jmy2=df.loc[(df['Country'] == 'Japan') & (df['Stars'] < 4)& (df['Brand']=='Myojo')]\n",
    "totmyp=jmy1['Review #'].sum()\n",
    "totmyn=jmy2['Review #'].sum()\n",
    "rev2 = totmyp,totmyn\n",
    "\n",
    "# MARUCHAN\n",
    "jma1=df.loc[(df['Country'] == 'Japan') & (df['Stars'] >= 4)& (df['Brand']=='Maruchan')]\n",
    "jma2=df.loc[(df['Country'] == 'Japan') & (df['Stars'] < 4)& (df['Brand']=='Maruchan')]\n",
    "totmap=jma1['Review #'].sum()\n",
    "totman=jma2['Review #'].sum()\n",
    "rev3 = totmap,totman\n",
    "labels = 'Above 4.0','Below 4.0'\n",
    "colors = ['yellowgreen', 'lightskyblue']\n",
    "explode = (0.1, 0) \n",
    "fig ,ax=plt.subplots(1,3,figsize=(15,15))\n",
    "ax[0].pie(rev1, explode=explode, labels=labels, colors=colors,autopct='%1.1f%%')\n",
    "ax[1].pie(rev2, explode=explode, labels=labels, colors=colors,autopct='%1.1f%%')\n",
    "ax[2].pie(rev3, explode=explode, labels=labels, colors=colors,autopct='%1.1f%%')\n",
    "ax[0].set_title('NISSIN',fontsize=10)\n",
    "ax[1].set_title('MYOJO',fontsize=10)\n",
    "ax[2].set_title('MARUCHAN',fontsize=10)\n",
    "plt.show()\n",
    "japan_b1=df.loc[(df['Country'] == 'Japan') & (df['Brand']=='Nissin')]\n",
    "japan_b2=df.loc[(df['Country'] == 'Japan') & (df['Brand']=='Myojo')]\n",
    "japan_b3=df.loc[(df['Country'] == 'Japan') & (df['Brand']=='Maruchan')]\n",
    "fig, axes = plt.subplots(1, 3, figsize=(15, 5), sharey=True)\n",
    "fig.suptitle('Ratings Comparision')\n",
    "axes[0].set_title('NISSIN',fontsize=10)\n",
    "axes[1].set_title('MYOJO',fontsize=10)\n",
    "axes[2].set_title('MARUCHAN',fontsize=10)\n",
    "sns.countplot(ax=axes[0],x=\"Stars\", data=japan_b1, palette=\"muted\")\n",
    "sns.countplot(ax=axes[1],x=\"Stars\", data=japan_b2, palette=\"muted\")\n",
    "sns.countplot(ax=axes[2],x=\"Stars\", data=japan_b3, palette=\"muted\")\n",
    "plt.show()"
   ]
  },
  {
   "cell_type": "markdown",
   "metadata": {
    "slideshow": {
     "slide_type": "skip"
    }
   },
   "source": [
    "### Star Rating Analysis in USA"
   ]
  },
  {
   "cell_type": "code",
   "execution_count": 38,
   "metadata": {
    "slideshow": {
     "slide_type": "skip"
    }
   },
   "outputs": [
    {
     "data": {
      "image/png": "[encoded data removed]",
      "text/plain": [
       "<Figure size 1080x1080 with 3 Axes>"
      ]
     },
     "metadata": {},
     "output_type": "display_data"
    },
    {
     "data": {
      "image/png": "[encoded data removed]",
      "text/plain": [
       "<Figure size 1440x360 with 3 Axes>"
      ]
     },
     "metadata": {
      "needs_background": "light"
     },
     "output_type": "display_data"
    }
   ],
   "source": [
    "#Nongshim \n",
    "ub1=df.loc[(df['Country'] == 'USA') & (df['Stars'] >= 4)& (df['Brand']=='Nongshim')]\n",
    "usb1=df.loc[(df['Country'] == 'USA') & (df['Stars'] < 4)& (df['Brand']=='Nongshim')]\n",
    "totub1=ub1['Review #'].sum()\n",
    "totusb1=usb1['Review #'].sum()\n",
    "us1 = totub1,totusb1\n",
    "\n",
    "# NISSIN\n",
    "ub2=df.loc[(df['Country'] == 'USA') & (df['Stars'] >= 4)& (df['Brand']=='Nissin')]\n",
    "usb2=df.loc[(df['Country'] == 'USA') & (df['Stars'] < 4)& (df['Brand']=='Nissin')]\n",
    "totub2=ub2['Review #'].sum()\n",
    "totusb2=usb2['Review #'].sum()\n",
    "us2 = totub2,totusb2\n",
    "\n",
    "#Yamachan\n",
    "ub3=df.loc[(df['Country'] == 'USA') & (df['Stars'] >= 4.5)& (df['Brand']=='Yamachan')]\n",
    "usb3=df.loc[(df['Country'] == 'USA') & (df['Stars'] < 4.5)& (df['Brand']=='Yamachan')]\n",
    "totub3=ub3['Review #'].sum()\n",
    "totusb3=usb3['Review #'].sum()\n",
    "us3 = totub3,totusb3\n",
    "labels = 'Above 4.0','Below 4.0'\n",
    "label1=\"Above 4.5\",\"Below 4.5\"\n",
    "colors = ['yellowgreen', 'lightskyblue']\n",
    "explode = (0.1, 0) \n",
    "fig ,ax=plt.subplots(1,3,figsize=(15,15))\n",
    "ax[0].pie(us1, explode=explode, labels=labels, colors=colors,autopct='%1.1f%%')\n",
    "ax[1].pie(us2, explode=explode, labels=labels, colors=colors,autopct='%1.1f%%')\n",
    "ax[2].pie(us3, explode=explode, labels=label1, colors=colors,autopct='%1.1f%%')\n",
    "ax[0].set_title('Nongshim',fontsize=15)\n",
    "ax[1].set_title('NISSIN',fontsize=15)\n",
    "ax[2].set_title('Yamachan',fontsize=15)\n",
    "plt.show()\n",
    "usa_b1=df.loc[(df['Country'] == 'USA') &  (df['Brand']=='Nongshim')]\n",
    "usa_b2=df.loc[(df['Country'] == 'USA') &  (df['Brand']=='Nissin')]\n",
    "usa_b3=df.loc[(df['Country'] == 'USA') &  (df['Brand']=='Yamachan')]\n",
    "fig, axes = plt.subplots(1, 3, figsize=(20, 5), sharey=True)\n",
    "fig.suptitle('Ratings Comparision')\n",
    "axes[0].set_title('NONGSHIM',fontsize=10)\n",
    "axes[1].set_title('NISSIN',fontsize=10)\n",
    "axes[2].set_title('YAMACHAN',fontsize=10)\n",
    "sns.countplot(ax=axes[0],x=\"Stars\", data=usa_b1, palette=\"muted\")\n",
    "sns.countplot(ax=axes[1],x=\"Stars\", data=usa_b2, palette=\"muted\")\n",
    "sns.countplot(ax=axes[2],x=\"Stars\", data=usa_b3, palette=\"muted\")\n",
    "plt.show()"
   ]
  },
  {
   "cell_type": "markdown",
   "metadata": {
    "slideshow": {
     "slide_type": "skip"
    }
   },
   "source": [
    "### Star Rating Analysis in South Korea"
   ]
  },
  {
   "cell_type": "code",
   "execution_count": 39,
   "metadata": {
    "slideshow": {
     "slide_type": "skip"
    }
   },
   "outputs": [
    {
     "data": {
      "image/png": "[encoded data removed]",
      "text/plain": [
       "<Figure size 1080x1080 with 3 Axes>"
      ]
     },
     "metadata": {},
     "output_type": "display_data"
    },
    {
     "data": {
      "image/png": "[encoded data removed]",
      "text/plain": [
       "<Figure size 1080x360 with 3 Axes>"
      ]
     },
     "metadata": {
      "needs_background": "light"
     },
     "output_type": "display_data"
    }
   ],
   "source": [
    "# PALDO\n",
    "sk1=df.loc[(df['Country'] == 'South Korea') & (df['Stars'] >= 4)& (df['Brand']=='Paldo')]\n",
    "skb1=df.loc[(df['Country'] == 'South Korea') & (df['Stars'] < 4)& (df['Brand']=='Paldo')]\n",
    "totsk1=sk1['Review #'].sum()\n",
    "totskb1=skb1['Review #'].sum()\n",
    "rev1 = totsk1,totskb1\n",
    "\n",
    "# NONGSHIM\n",
    "sk2=df.loc[(df['Country'] == 'South Korea') & (df['Stars'] >= 4)& (df['Brand']=='Nongshim')]\n",
    "skb2=df.loc[(df['Country'] == 'South Korea') & (df['Stars'] < 4)& (df['Brand']=='Nongshim')]\n",
    "totsk2=sk2['Review #'].sum()\n",
    "totskb2=skb2['Review #'].sum()\n",
    "rev2 = totsk2,totskb2\n",
    "\n",
    "# SAMYANG FOODS\n",
    "sk3=df.loc[(df['Country'] == 'South Korea') & (df['Stars'] >= 4)& (df['Brand']=='Samyang Foods')]\n",
    "skb3=df.loc[(df['Country'] == 'South Korea') & (df['Stars'] < 4)& (df['Brand']=='Samyang Foods')]\n",
    "totsk3=sk3['Review #'].sum()\n",
    "totskb3=skb3['Review #'].sum()\n",
    "rev3 = totsk3,totskb3\n",
    "labels = 'Above 4.0','Below 4.0'\n",
    "colors = ['yellowgreen', 'lightskyblue']\n",
    "explode = (0.1, 0) \n",
    "fig ,ax=plt.subplots(1,3,figsize=(15,15))\n",
    "ax[0].pie(rev1, explode=explode, labels=labels, colors=colors,autopct='%1.1f%%')\n",
    "ax[1].pie(rev2, explode=explode, labels=labels, colors=colors,autopct='%1.1f%%')\n",
    "ax[2].pie(rev3, explode=explode, labels=labels, colors=colors,autopct='%1.1f%%')\n",
    "ax[0].set_title('PALDO',fontsize=15)\n",
    "ax[1].set_title('NONGSHIM',fontsize=15)\n",
    "ax[2].set_title('SAMYANG FOODS',fontsize=15)\n",
    "plt.show()\n",
    "south_k_b1=df.loc[(df['Country'] == 'South Korea') & (df['Stars'] >= 4)& (df['Brand']=='Paldo')]\n",
    "south_k_b2=df.loc[(df['Country'] == 'South Korea') & (df['Stars'] >= 4)& (df['Brand']=='Nongshim')]\n",
    "south_k_b3=df.loc[(df['Country'] == 'South Korea') & (df['Stars'] >= 4)& (df['Brand']=='Samyang Foods')]\n",
    "fig, axes = plt.subplots(1, 3, figsize=(15, 5), sharey=True)\n",
    "fig.suptitle('Ratings Comparision')\n",
    "axes[0].set_title('PALDO',fontsize=10)\n",
    "axes[1].set_title('NONGSHIM',fontsize=10)\n",
    "axes[2].set_title('SAMYANG FOODS',fontsize=10)\n",
    "sns.countplot(ax=axes[0],x=\"Stars\", data=south_k_b1, palette=\"muted\")\n",
    "sns.countplot(ax=axes[1],x=\"Stars\", data=south_k_b2, palette=\"muted\")\n",
    "sns.countplot(ax=axes[2],x=\"Stars\", data=south_k_b3, palette=\"muted\")\n",
    "plt.show()"
   ]
  },
  {
   "cell_type": "markdown",
   "metadata": {
    "slideshow": {
     "slide_type": "slide"
    }
   },
   "source": [
    "# Finally..."
   ]
  },
  {
   "cell_type": "markdown",
   "metadata": {
    "slideshow": {
     "slide_type": "fragment"
    }
   },
   "source": [
    "# Let us RECAP..."
   ]
  },
  {
   "cell_type": "code",
   "execution_count": 40,
   "metadata": {
    "slideshow": {
     "slide_type": "slide"
    }
   },
   "outputs": [
    {
     "data": {
      "image/png": "[encoded data removed]",
      "text/plain": [
       "<IPython.core.display.Image object>"
      ]
     },
     "execution_count": 40,
     "metadata": {
      "image/png": {
       "height": 100,
       "width": 500
      }
     },
     "output_type": "execute_result"
    }
   ],
   "source": [
    "from IPython.display import Image\n",
    "Image('recap.png',width=500,height=100)"
   ]
  },
  {
   "cell_type": "markdown",
   "metadata": {
    "slideshow": {
     "slide_type": "slide"
    }
   },
   "source": [
    "# What  do we RECOMMEND?"
   ]
  },
  {
   "cell_type": "code",
   "execution_count": 41,
   "metadata": {
    "slideshow": {
     "slide_type": "fragment"
    }
   },
   "outputs": [
    {
     "data": {
      "image/png": "[encoded data removed]",
      "text/plain": [
       "<IPython.core.display.Image object>"
      ]
     },
     "execution_count": 41,
     "metadata": {
      "image/png": {
       "height": 100,
       "width": 1000
      }
     },
     "output_type": "execute_result"
    }
   ],
   "source": [
    "from IPython.display import Image\n",
    "Image('Recommend.png',width=1000,height=100)"
   ]
  },
  {
   "cell_type": "code",
   "execution_count": null,
   "metadata": {},
   "outputs": [],
   "source": []
  }
 ],
 "metadata": {
  "celltoolbar": "Slideshow",
  "kernelspec": {
   "display_name": "Python 3",
   "language": "python",
   "name": "python3"
  },
  "language_info": {
   "codemirror_mode": {
    "name": "ipython",
    "version": 3
   },
   "file_extension": ".py",
   "mimetype": "text/x-python",
   "name": "python",
   "nbconvert_exporter": "python",
   "pygments_lexer": "ipython3",
   "version": "3.8.5"
  }
 },
 "nbformat": 4,
 "nbformat_minor": 4
}
